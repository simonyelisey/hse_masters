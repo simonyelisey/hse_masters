{
 "cells": [
  {
   "cell_type": "code",
   "execution_count": 66,
   "metadata": {
    "id": "Ny3YM2ca2oJ7"
   },
   "outputs": [
    {
     "name": "stderr",
     "output_type": "stream",
     "text": [
      "[nltk_data] Downloading package stopwords to\n",
      "[nltk_data]     /Users/simonyelisey/nltk_data...\n",
      "[nltk_data]   Package stopwords is already up-to-date!\n"
     ]
    },
    {
     "data": {
      "text/plain": "True"
     },
     "execution_count": 66,
     "metadata": {},
     "output_type": "execute_result"
    }
   ],
   "source": [
    "import pandas as pd\n",
    "import matplotlib.pyplot as plt\n",
    "import seaborn as sns\n",
    "import warnings\n",
    "\n",
    "from pymorphy2 import MorphAnalyzer\n",
    "from nltk.corpus import stopwords\n",
    "from multiprocessing import Pool\n",
    "import tqdm\n",
    "import re\n",
    "import nltk\n",
    "nltk.download('stopwords')"
   ]
  },
  {
   "cell_type": "code",
   "execution_count": 67,
   "metadata": {
    "id": "fgQBle1MApo9"
   },
   "outputs": [],
   "source": [
    "warnings.filterwarnings('ignore')\n",
    "sns.set_style('whitegrid')"
   ]
  },
  {
   "cell_type": "code",
   "execution_count": 68,
   "outputs": [],
   "source": [
    "target = 'grades'"
   ],
   "metadata": {
    "collapsed": false
   }
  },
  {
   "cell_type": "markdown",
   "source": [
    "## Read the data"
   ],
   "metadata": {
    "collapsed": false
   }
  },
  {
   "cell_type": "code",
   "execution_count": 56,
   "outputs": [],
   "source": [
    "train = pd.read_csv('data/train_ml.csv')\n",
    "test = pd.read_csv('data/new_test_ml.csv', index_col='Unnamed: 0')"
   ],
   "metadata": {
    "collapsed": false
   }
  },
  {
   "cell_type": "code",
   "execution_count": 57,
   "metadata": {
    "colab": {
     "base_uri": "https://localhost:8080/"
    },
    "id": "3CjEgeLe4mJb",
    "outputId": "a37ae701-fa43-48ee-cd23-a234b078917c"
   },
   "outputs": [
    {
     "data": {
      "text/plain": "((75000, 4), (17220, 3))"
     },
     "execution_count": 57,
     "metadata": {},
     "output_type": "execute_result"
    }
   ],
   "source": [
    "train.shape, test.shape"
   ]
  },
  {
   "cell_type": "markdown",
   "metadata": {
    "id": "5RnPbZEH4725"
   },
   "source": [
    "## Preprocessing"
   ]
  },
  {
   "cell_type": "markdown",
   "metadata": {
    "id": "jrPiSpywFrt8"
   },
   "source": [
    "### NaNs"
   ]
  },
  {
   "cell_type": "code",
   "execution_count": 58,
   "metadata": {
    "colab": {
     "base_uri": "https://localhost:8080/"
    },
    "id": "nSIETXerEBkP",
    "outputId": "19044576-7bfd-4492-b23b-dfd8141fc139"
   },
   "outputs": [
    {
     "data": {
      "text/plain": "bank      0.000000\nfeeds     0.000000\ngrades    0.313653\ndate      0.000000\ndtype: float64"
     },
     "execution_count": 58,
     "metadata": {},
     "output_type": "execute_result"
    }
   ],
   "source": [
    "train.isna().mean()"
   ]
  },
  {
   "cell_type": "code",
   "execution_count": 59,
   "metadata": {
    "id": "T0V6mliqE982"
   },
   "outputs": [],
   "source": [
    "train = train.dropna()\n",
    "\n",
    "assert train.isna().sum().sum() == 0"
   ]
  },
  {
   "cell_type": "markdown",
   "metadata": {
    "id": "KONn3rNmF44S"
   },
   "source": [
    "### Target"
   ]
  },
  {
   "cell_type": "code",
   "execution_count": 61,
   "metadata": {
    "colab": {
     "base_uri": "https://localhost:8080/",
     "height": 279
    },
    "id": "0RhcBThUFPQa",
    "outputId": "378a1db2-5d64-48d1-a9f3-42f15a4fb6ed"
   },
   "outputs": [
    {
     "data": {
      "text/plain": "<Figure size 432x288 with 1 Axes>",
      "image/png": "[encoded data removed]"
     },
     "metadata": {},
     "output_type": "display_data"
    }
   ],
   "source": [
    "# target distribution\n",
    "\n",
    "sns.histplot(train[target])\n",
    "plt.show()"
   ]
  },
  {
   "cell_type": "markdown",
   "metadata": {
    "id": "e8N6W1usF_Wb"
   },
   "source": [
    "### Feeds"
   ]
  },
  {
   "cell_type": "code",
   "execution_count": 63,
   "metadata": {
    "id": "h26AaMIIQNnO"
   },
   "outputs": [],
   "source": [
    "def count_words(data, text_column):\n",
    "  \"\"\"\n",
    "  Function counts number of words and length of each object\n",
    "  \"\"\"\n",
    "  data['text_len'] = data[text_column].apply(lambda x: len(x))\n",
    "  data['num_words'] = data[text_column].apply(lambda x: len(x.split()))\n",
    "\n",
    "  return data"
   ]
  },
  {
   "cell_type": "code",
   "execution_count": 64,
   "metadata": {
    "id": "KNbEa991AUzi"
   },
   "outputs": [],
   "source": [
    "train = count_words(train, 'feeds')\n",
    "test = count_words(test, 'feeds')"
   ]
  },
  {
   "cell_type": "code",
   "execution_count": null,
   "metadata": {
    "id": "a5vov3BbGBM5"
   },
   "outputs": [],
   "source": [
    "from functools import lru_cache\n",
    "\n",
    "m = MorphAnalyzer()\n",
    "regex = re.compile(\"[А-Яа-яA-z]+\")\n",
    "\n",
    "def words_only(text, regex=regex):\n",
    "    try:\n",
    "        return regex.findall(text.lower())\n",
    "    except:\n",
    "        return []\n",
    "\n",
    "@lru_cache(maxsize=128)\n",
    "def lemmatize_word(token, pymorphy=m):\n",
    "    return pymorphy.parse(token)[0].normal_form\n",
    "\n",
    "def lemmatize_text(text):\n",
    "    return [lemmatize_word(w) for w in text]\n",
    "\n",
    "\n",
    "mystopwords = stopwords.words('russian') \n",
    "def remove_stopwords(lemmas, stopwords = mystopwords):\n",
    "    return [w for w in lemmas if not w in stopwords and len(w) > 3]\n",
    "\n",
    "def clean_text(text):\n",
    "    tokens = words_only(text)\n",
    "    lemmas = lemmatize_text(tokens)\n",
    "    \n",
    "    return ' '.join(remove_stopwords(lemmas))"
   ]
  },
  {
   "cell_type": "code",
   "execution_count": null,
   "metadata": {
    "colab": {
     "base_uri": "https://localhost:8080/"
    },
    "id": "Thya0gfgSLsf",
    "outputId": "1973145e-4d38-425d-fcda-e0ac9c24eda5"
   },
   "outputs": [
    {
     "name": "stderr",
     "output_type": "stream",
     "text": [
      "100%|██████████| 51476/51476 [22:22<00:00, 38.34it/s]\n"
     ]
    }
   ],
   "source": [
    "# train\n",
    "\n",
    "with Pool(4) as p:\n",
    "    lemmas = list(tqdm(p.imap(clean_text, train['feeds']), total=len(train)))\n",
    "    \n",
    "train['lemmas'] = lemmas"
   ]
  },
  {
   "cell_type": "code",
   "execution_count": null,
   "metadata": {
    "id": "YZv6On00YA41"
   },
   "outputs": [],
   "source": [
    "# save the train data\n",
    "\n",
    "train.to_csv(\"data/preprocessed_train.csv\", index=False)"
   ]
  },
  {
   "cell_type": "code",
   "execution_count": null,
   "metadata": {
    "colab": {
     "base_uri": "https://localhost:8080/"
    },
    "id": "Mi7R_0ayWFVv",
    "outputId": "c3befc61-ad4d-4577-fb4f-73f34d2cf698"
   },
   "outputs": [
    {
     "name": "stderr",
     "output_type": "stream",
     "text": [
      "100%|██████████| 17220/17220 [07:45<00:00, 36.96it/s]\n"
     ]
    }
   ],
   "source": [
    "# test\n",
    "\n",
    "with Pool(4) as p:\n",
    "    lemmas = list(tqdm(p.imap(clean_text, test['feeds']), total=len(test)))\n",
    "    \n",
    "test['lemmas'] = lemmas"
   ]
  },
  {
   "cell_type": "code",
   "execution_count": null,
   "metadata": {
    "id": "nJQeebCoYZ9E"
   },
   "outputs": [],
   "source": [
    "# save the test data\n",
    "\n",
    "test.to_csv(\"data/preprocessed_test.csv\", index=False)"
   ]
  }
 ],
 "metadata": {
  "accelerator": "GPU",
  "colab": {
   "collapsed_sections": [
    "KONn3rNmF44S",
    "EA9Q0wnmF7Uc",
    "Z2EzNevFIJJ8"
   ],
   "provenance": []
  },
  "gpuClass": "standard",
  "kernelspec": {
   "name": "python3",
   "language": "python",
   "display_name": "Python 3 (ipykernel)"
  },
  "language_info": {
   "name": "python"
  }
 },
 "nbformat": 4,
 "nbformat_minor": 0
}
