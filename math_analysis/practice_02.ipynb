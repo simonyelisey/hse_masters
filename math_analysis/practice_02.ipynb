{
  "cells": [
    {
      "cell_type": "code",
      "execution_count": 188,
      "metadata": {
        "id": "ohmVvPQgKj58"
      },
      "outputs": [],
      "source": [
        "import pandas as pd\n",
        "import numpy as np\n",
        "import matplotlib.pyplot as plt\n",
        "import random"
      ]
    },
    {
      "cell_type": "markdown",
      "metadata": {
        "id": "fkPR4N-wiEvE"
      },
      "source": [
        "В этом задании две части - теоретическая и практическая. Теорию можно набирать в латехе или просто решить на листочке, сфотографировать и отправить вместе с заполненным ноутбуком в anytask.\n",
        "\n",
        "Максимальный балл за задание - 10."
      ]
    },
    {
      "cell_type": "markdown",
      "metadata": {
        "id": "EMZ5My7kiPY_"
      },
      "source": [
        "# Часть 1 (теоретическая).\n",
        "\n",
        "## Задание 1 (**1.5 балла**).\n",
        "\n",
        "Пусть $f(X)=ln(detX), X\\in\\mathbb{R}^{n\\times n}$. Найдите производную $\\nabla_X f(X).$\n",
        "\n",
        "Для решения воспользуемся правилом дифференцирования сложной функции и таблицой стандартных производных для дифференцирования $detX$ [Матрично-векторное дифференцирование](http://www.machinelearning.ru/wiki/images/5/50/MOMO17_Seminar2.pdf):\n",
        "\n",
        "**Решение**:\n",
        "\n",
        "\n",
        "$\\nabla_X f(X) = \\frac{d}{dX}(ln(detX)) = \\frac{d}{dX}(ln(detX)) * \\frac{d}{dx}(detX) = \\frac{1}{detX} * detX*X^{-T} = X^{-T}.$\n",
        "\n",
        "## Задание 2 (**2 балла**).\n",
        "\n",
        "Пусть $f(x)=x^Texp(xx^T)x, x\\in\\mathbb{R}^n,$ а $exp(B)$ - матричная экспонента, $B\\in\\mathbb{R}^{n\\times n}.$ Матричной экспонентой обозначают ряд\n",
        "\n",
        "$I_n+\\frac{B}{1!}+\\frac{B^2}{2!}+\\dots=\\sum\\limits_{k=0}^{\\infty}\\frac{B^k}{k!}.$\n",
        "\n",
        "Найдите производную $\\nabla_x f(x).$\n",
        "\n",
        "**Решение**:\n",
        "\n",
        "$f(x) = x^Texp(xx^T)x = x^T\\sum_{k=0}^\\infty\\frac{(xx^T)^k}{k!}x = \\sum_{k=0}^\\infty\\frac{x^T(xx^T)^kx}{k!} = \\sum_{k=0}^\\infty\\frac{(x^Tx)^{k+1}}{k!}$\n",
        "\n",
        "$\\nabla_x f(x) = \\frac{d}{dx}f(x) = \\frac{d}{dx^Tx} \\sum_{k=0}^\\infty\\frac{(x^Tx)^{k+1}}{k!} *\\frac{d}{dx}(x^Tx) = \\sum_{k=0}^\\infty\\frac{(k + 1)}{k!}(x^Tx)^k 2x = (k+1)exp(x^Tx)2x$\n",
        "\n",
        "## Задание 3 (**1.5 балла**).\n",
        "\n",
        "В случае одномерной Ridge-регрессии минимизируется функция со штрафом:\n",
        "$Q(w) = (y-xw)^T(y-xw)+\\lambda w^2,$\n",
        "где $\\lambda$ - положительный параметр, штрафующий функцию за слишком большие значения $w$.\n",
        "\n",
        "1)  (**0.5 балла**) Найдите производную $\\nabla_w Q(w)$, выведите формулу для оптимального $w$.\n",
        "\n",
        "2) (**0.5 балла**) Найдите вторую производную $\\nabla^2_w Q(w)$. Убедитесь, что мы оказались в точке минимума.\n",
        "\n",
        "3) (**0.5 балла**) Выпишите шаг градиентного спуска в матричном виде.\n",
        "\n",
        "**Решение:**\n",
        "\n",
        "**1)** Найдем 1-ю производную:\n",
        "\n",
        "$\\nabla_w Q = \\frac{d}{dw} (y^Ty - y^Txw - x^Tw^Ty + x^Tw^Txw) + \\frac{d}{dw}(\\lambda w^2) =$\n",
        "\n",
        "$= -xy^T-x^Ty+2x^Txw + 2\\lambda w = -2x^Ty + 2x^Txw + 2\\lambda w $\n",
        "\n",
        "Выведем $w$:\n",
        "\n",
        "$-2x^Ty + 2x^Txw + 2\\lambda w = 0$\n",
        "\n",
        "Перенесем $-2x^Ty$ \n",
        "\n",
        "$2x^Txw + 2\\lambda w = 2x^Ty$\n",
        "\n",
        "Сократим все на 2\n",
        "\n",
        "$x^Txw + \\lambda w = x^Ty$\n",
        "\n",
        "Вынесем $w$ за скобку, и чтобы можно было складывать $x^Tx$ и $\\lambda$, умножим $\\lambda$ на единичную матрицу\n",
        "\n",
        "$(x^Tx +\\lambda E)w = x^Ty$\n",
        "\n",
        "Дальше переносим выражение в скобках и выражаем $w$\n",
        "\n",
        "$w = (x^Tx+\\lambda E)^{-1}x^Ty$\n",
        "\n",
        "**2)** Найдем 2-ю производную:\n",
        "\n",
        "$\\nabla_w^2 Q = \\frac{d}{dw}(-2x^Ty + 2x^Txw + 2\\lambda w) = 2x^Tx +2\\lambda E = x^Tx +\\lambda E$ - здесь также умножили $\\lambda$ на единичную матрицу, чтобы ее можно было складывать с $x^Tx$.\n",
        "\n",
        "Убедимся, что мы в точке минимума:\n",
        "\n",
        "$x^Tx = ||x||^2 >= 0$, причем нулю равно только когда $x = 0$\n",
        "\n",
        "$=> x^Tx +\\lambda E$ - положительно определена, что говорит о том, что мы оказались в точке минимума. [ml handbook, примеры вычисления второй производной](https://ml-handbook.ru/chapters/matrix_diff/intro#%D0%B2%D1%82%D0%BE%D1%80%D0%B0%D1%8F-%D0%BF%D1%80%D0%BE%D0%B8%D0%B7%D0%B2%D0%BE%D0%B4%D0%BD%D0%B0%D1%8F) "
      ]
    },
    {
      "cell_type": "markdown",
      "metadata": {
        "id": "lm6_Ln0GoliG"
      },
      "source": [
        "## Часть 2 (практическая).\n",
        "\n",
        "## Задание 4 (**1 балл**).\n",
        "Напишите функцию, вычисляющую значение весов в линейной регрессии по точной (аналитически найденной) формуле."
      ]
    },
    {
      "cell_type": "markdown",
      "metadata": {
        "id": "BpY5ETA1AAV7"
      },
      "source": [
        "Аналитическая формула для нахождения весов:\n",
        "\n",
        "$w = (X^TX)^{-1}X^Ty$"
      ]
    },
    {
      "cell_type": "code",
      "execution_count": 189,
      "metadata": {
        "id": "ZrVvpU9miOga"
      },
      "outputs": [],
      "source": [
        "def ols_solution(X, y):\n",
        "    \"\"\"\n",
        "    Аналитическое решение\n",
        "    \"\"\"\n",
        "    \n",
        "    w = np.linalg.inv((X.T @ X)) @ X.T @ y\n",
        "\n",
        "    return w"
      ]
    },
    {
      "cell_type": "markdown",
      "metadata": {
        "id": "_shCsTQ1pVcU"
      },
      "source": [
        "## Задание 5 (**1 балл**).\n",
        "Модифицируйте метод градиентного спуска с семинара так, чтобы это теперь был метод стохастического градиентного спуска."
      ]
    },
    {
      "cell_type": "code",
      "execution_count": 200,
      "metadata": {
        "id": "fTZWxz1zpb9R"
      },
      "outputs": [],
      "source": [
        "def stochastic_gradient_descent(X, y, learning_rate, iterations):\n",
        "    # добавляем столбец из единиц\n",
        "    X = np.hstack((np.ones((X.shape[0], 1)), X))\n",
        "    # случайные веса\n",
        "    params = np.random.rand(X.shape[1])\n",
        "    # массив для лоссов \n",
        "    cost_track = np.zeros((iterations, 1))\n",
        "    for i in range(iterations):\n",
        "      # рандомное наблюдение\n",
        "      random_idx = np.random.randint(len(X - 1))\n",
        "      x = X[random_idx]\n",
        "      y_current = y[random_idx]\n",
        "      # обновление весов\n",
        "      error = x @ params - y_current\n",
        "      params = params - learning_rate * (x * error)\n",
        "      # добавляем лосс в список\n",
        "      cost_track[i] = compute_cost(X, y, params)\n",
        "    \n",
        "    return cost_track, params"
      ]
    },
    {
      "cell_type": "markdown",
      "metadata": {
        "id": "WnRlUa9Npi9o"
      },
      "source": [
        "## Задание 6 (**3 балла**).\n",
        "* **(0 баллов)**. Скопируйте метод градиентного спуска из семинара в этот ноутбук.\n",
        "\n",
        "* **(0.5 балла)**. Обучите линейную регрессию тремя методами (по точной формуле, с помощью GD и с помощью SGD) на данных для задачи регрессии (см. код). Для GD и SGD используйте learning_rate = 0.01, iterations=10000.\n",
        "\n",
        "* **(0.5 балла)**. С помощью каждого метода сделайте предсказание (на всех данных), вычислите качество предсказания r2 (from sklearn.metrics import r2_score). Для получения предсказания можете использовать функцию predict с семинара.\n",
        "\n",
        "\n",
        "Ответьте на следующие вопросы (каждый вопрос - **0.5 балла**): \n",
        "\n",
        "1) все ли методы справились с нахождением минимума? если нет, то почему какой-то из методов не справился?\n",
        "\n",
        "2) сравните время работы методов (используйте библиотеку time): замеряйте время работы соответствующей написанной вами функции.\n",
        "\n",
        "3) для методов GD и SGD нарисуйте графики (для каждого свой) зависимости ошибки (loss) от номера итерации. \n",
        "\n",
        "4) какой метод успешнее всего справился с задачей? (т.е. r2 наибольший)."
      ]
    },
    {
      "cell_type": "code",
      "execution_count": 202,
      "metadata": {
        "id": "ntjWWlXxThv3"
      },
      "outputs": [],
      "source": [
        "def gradient_descent(X, y, learning_rate, iterations):\n",
        "\n",
        "    X = np.hstack((np.ones((X.shape[0], 1)), X))\n",
        "    params = np.random.rand(X.shape[1])\n",
        "\n",
        "    m = X.shape[0]\n",
        "\n",
        "    cost_track = np.zeros((iterations,1))\n",
        "\n",
        "    for i in range(iterations):\n",
        "        params = params - 2./m * learning_rate * (X.T @ ((X @ params) - y))\n",
        "        cost_track[i] = compute_cost(X, y, params)\n",
        "\n",
        "    return cost_track, params"
      ]
    },
    {
      "cell_type": "code",
      "execution_count": 203,
      "metadata": {
        "id": "GZcqsWx8X2ru"
      },
      "outputs": [],
      "source": [
        "def predict(X, params):\n",
        "    X = np.hstack((np.ones((X.shape[0], 1)), X))\n",
        "    return X @ params"
      ]
    },
    {
      "cell_type": "code",
      "execution_count": 204,
      "metadata": {
        "id": "kns7FERvTuHg"
      },
      "outputs": [],
      "source": [
        "def compute_cost(X, y, theta):\n",
        "    m = len(y)\n",
        "\n",
        "    cost = (1./m) * (np.linalg.norm(X @ theta - y) ** 2)\n",
        "    return cost"
      ]
    },
    {
      "cell_type": "code",
      "execution_count": 205,
      "metadata": {
        "id": "LBu41KSpqbbI"
      },
      "outputs": [],
      "source": [
        "from sklearn.datasets import make_regression\n",
        "from sklearn.linear_model import LinearRegression\n",
        "from sklearn.metrics import r2_score\n",
        "\n",
        "import pandas as pd\n",
        "import numpy as np\n",
        "\n",
        "X, y, _ = make_regression(n_samples=100000, # number of samples\n",
        "                          n_features=10, # number of features\n",
        "                          n_informative=8, # number of useful features \n",
        "                          noise=100, # bias and standard deviation of the guassian noise\n",
        "                          coef=True, # true coefficient used to generated the data\n",
        "                          random_state=123) \n",
        "\n",
        "X = pd.DataFrame(data=X, columns=np.arange(0, X.shape[1]))\n",
        "X[10] = X[6] + X[7] + np.random.random()*0.01"
      ]
    },
    {
      "cell_type": "markdown",
      "metadata": {
        "id": "NefmzPHZ7whE"
      },
      "source": [
        "### Аналитический метод"
      ]
    },
    {
      "cell_type": "code",
      "execution_count": 206,
      "metadata": {
        "colab": {
          "base_uri": "https://localhost:8080/"
        },
        "id": "6UVb98lf7ngQ",
        "outputId": "20f4e71d-bf62-4513-d01b-1eec167ab628"
      },
      "outputs": [
        {
          "output_type": "stream",
          "name": "stdout",
          "text": [
            "При аналитическом решении r2 = 0.7554626185750483\n",
            "\n",
            "CPU times: user 55.5 ms, sys: 25.9 ms, total: 81.5 ms\n",
            "Wall time: 53.4 ms\n"
          ]
        }
      ],
      "source": [
        "%%time\n",
        "\n",
        "ols_weights = ols_solution(X, y)\n",
        "\n",
        "ols_prediction = X @ ols_weights\n",
        "\n",
        "ols_metric = r2_score(y, ols_prediction)\n",
        "\n",
        "print(f'При аналитическом решении r2 = {ols_metric}\\n')"
      ]
    },
    {
      "cell_type": "markdown",
      "metadata": {
        "id": "v4MaBNUm8oO5"
      },
      "source": [
        "### GD"
      ]
    },
    {
      "cell_type": "code",
      "execution_count": 207,
      "metadata": {
        "colab": {
          "base_uri": "https://localhost:8080/"
        },
        "id": "TNOMbQ-XBSMd",
        "outputId": "a6d09fcc-b341-44a1-ab0d-48383673284c"
      },
      "outputs": [
        {
          "output_type": "stream",
          "name": "stdout",
          "text": [
            "CPU times: user 26.2 s, sys: 6.45 s, total: 32.7 s\n",
            "Wall time: 16.8 s\n"
          ]
        }
      ],
      "source": [
        "%%time\n",
        "\n",
        "gd_track, gd_weights = gradient_descent(X, y, 0.01, 10000)"
      ]
    },
    {
      "cell_type": "code",
      "execution_count": 208,
      "metadata": {
        "colab": {
          "base_uri": "https://localhost:8080/"
        },
        "id": "3QNcdKWM8mAh",
        "outputId": "0edbe96d-6488-4640-9590-54e2dff8199c"
      },
      "outputs": [
        {
          "output_type": "stream",
          "name": "stdout",
          "text": [
            "При классическом градиентном спуске r2 = 0.7554626185750483\n"
          ]
        }
      ],
      "source": [
        "gd_prediction = predict(X, gd_weights)\n",
        "\n",
        "gd_metric = r2_score(y, gd_prediction)\n",
        "\n",
        "print(f'При классическом градиентном спуске r2 = {gd_metric}')"
      ]
    },
    {
      "cell_type": "code",
      "execution_count": 209,
      "metadata": {
        "colab": {
          "base_uri": "https://localhost:8080/",
          "height": 265
        },
        "id": "Oru14pzS94dx",
        "outputId": "a260435c-61bf-424a-fe42-433d130f47fb"
      },
      "outputs": [
        {
          "output_type": "display_data",
          "data": {
            "text/plain": [
              "<Figure size 432x288 with 1 Axes>"
            ],
            "image/png": "[encoded data removed]"
          },
          "metadata": {
            "needs_background": "light"
          }
        }
      ],
      "source": [
        "plt.plot(gd_track)\n",
        "plt.show()"
      ]
    },
    {
      "cell_type": "markdown",
      "metadata": {
        "id": "uhp5tiXa9JYb"
      },
      "source": [
        "### SGD"
      ]
    },
    {
      "cell_type": "code",
      "execution_count": null,
      "metadata": {
        "colab": {
          "base_uri": "https://localhost:8080/"
        },
        "id": "Kq8sZuwwBOhl",
        "outputId": "9c5f9941-be5e-4978-c04b-46db0414062f"
      },
      "outputs": [
        {
          "name": "stdout",
          "output_type": "stream",
          "text": [
            "CPU times: user 47.5 s, sys: 26.2 s, total: 1min 13s\n",
            "Wall time: 40.2 s\n"
          ]
        }
      ],
      "source": [
        "%%time\n",
        "\n",
        "sgd_track, sgd_weights = stochastic_gradient_descent(X, y, 0.01, 10000)"
      ]
    },
    {
      "cell_type": "code",
      "execution_count": null,
      "metadata": {
        "colab": {
          "base_uri": "https://localhost:8080/"
        },
        "id": "0vtuTSMB9V_p",
        "outputId": "3a249112-afe1-4384-bdcd-706a0997b093"
      },
      "outputs": [
        {
          "name": "stdout",
          "output_type": "stream",
          "text": [
            "При классическом градиентном спуске r2 = 0.7311661487685339\n",
            "\n"
          ]
        }
      ],
      "source": [
        "sgd_prediction = predict(X, sgd_weights)\n",
        "\n",
        "sgd_metric = r2_score(y, sgd_prediction)\n",
        "\n",
        "print(f'При классическом градиентном спуске r2 = {sgd_metric}')"
      ]
    },
    {
      "cell_type": "code",
      "execution_count": null,
      "metadata": {
        "colab": {
          "base_uri": "https://localhost:8080/",
          "height": 265
        },
        "id": "8V7s2ZRR-CWB",
        "outputId": "52a16f14-dd95-44ea-a99e-d7634766ea35"
      },
      "outputs": [
        {
          "data": {
            "image/png": "[encoded data removed]",
            "text/plain": [
              "<Figure size 432x288 with 1 Axes>"
            ]
          },
          "metadata": {},
          "output_type": "display_data"
        }
      ],
      "source": [
        "plt.plot(sgd_track)\n",
        "plt.show()"
      ]
    },
    {
      "cell_type": "markdown",
      "metadata": {
        "id": "jOTiM_ed_FbV"
      },
      "source": [
        "### Ответы на вопросы:"
      ]
    },
    {
      "cell_type": "markdown",
      "metadata": {
        "id": "I9RcZ-OC-0n2"
      },
      "source": [
        "1) С нахождением минунима не справился **стохастический градиентный спуск**, так как на каждой итерации он считает градиент на рандомном объекте, поэтому у нас нет гарантии, что на последней итерации, ему попадется объект, градиент которого ведет в минимум.\n",
        "\n",
        "2) Стохастический градиентный спуск работает медленнее всех, что очень странно, видимо, это связано не с самой оптимальной реализацией кода.\n",
        "\n",
        "3) Графики смотрите выше.\n",
        "\n",
        "4) С задачей лучше всего справились аналитическое решение и классический градиентный спуск. "
      ]
    },
    {
      "cell_type": "markdown",
      "metadata": {
        "id": "wYmzzJVV54zT"
      },
      "source": [
        "## Задание 7 (2 балла).\n",
        "\n",
        "* **(1 балл)**. Добавьте в функцию из задания 5 L2-регуляризацию и, соответственно, новый аргумент - коэффициент при регуляризаторе.\n",
        "\n",
        "* **(1 балл)**. На сгенерированных выше данных обучите модифицированный алгоритм SGD с регуляризацией: в цикле перебирайте значения коэффициента регуляризации от 0.1 до 1 с шагом 0.1. Для каждого значения обучите модель и сделайте предсказание, выведите значение r2. Для какого значения коэффициента регуляризации получилось наилучшее качество r2, почему? "
      ]
    },
    {
      "cell_type": "code",
      "execution_count": 245,
      "metadata": {
        "id": "b_hC1Ehi612d"
      },
      "outputs": [],
      "source": [
        "def sgd_l2(X, y, learning_rate, iterations, l2):\n",
        "    # добавляем столбец из единиц\n",
        "    X = np.hstack((np.ones((X.shape[0], 1)), X))\n",
        "    # случайные веса\n",
        "    params = np.random.rand(X.shape[1])\n",
        "    # массив для лоссов \n",
        "    cost_track = np.zeros((iterations, 1))\n",
        "    for i in range(iterations):\n",
        "      # рандомное наблюдение\n",
        "      random_idx = np.random.randint(len(X - 1))\n",
        "      x = X[random_idx]\n",
        "      y_current = y[random_idx]\n",
        "      error = x @ params - y_current\n",
        "      # обновление весов\n",
        "      params_0 = params - learning_rate * (x * error)\n",
        "      Lw = x * error + l2 * params\n",
        "      params_1 = params - learning_rate  * Lw\n",
        "      params = np.hstack((params_0[0], params_1[1:]))\n",
        "      # добавляем лосс в список\n",
        "      cost_track[i] = compute_cost(X, y, params)\n",
        "    \n",
        "    return cost_track, params"
      ]
    },
    {
      "cell_type": "code",
      "execution_count": 246,
      "metadata": {
        "id": "TxykxLLtE9UV"
      },
      "outputs": [],
      "source": [
        "scores = []\n",
        "\n",
        "for l2 in np.linspace(0.1, 1, 10):\n",
        "  sgd_l2_track, sgd_l2_weights = sgd_l2(X, y, 0.01, 10000, l2)\n",
        "  score = r2_score(y, predict(X, sgd_l2_weights))\n",
        "\n",
        "  scores.append(score)"
      ]
    },
    {
      "cell_type": "code",
      "source": [
        "scores"
      ],
      "metadata": {
        "colab": {
          "base_uri": "https://localhost:8080/"
        },
        "id": "ZbFOOq3bbhS4",
        "outputId": "f0001a6c-c484-427a-eb97-85fd9eb388ae"
      },
      "execution_count": 247,
      "outputs": [
        {
          "output_type": "execute_result",
          "data": {
            "text/plain": [
              "[0.7391345605244131,\n",
              " 0.7325797384239254,\n",
              " 0.7206985027173537,\n",
              " 0.7191910994586257,\n",
              " 0.7065160129150756,\n",
              " 0.641492194646716,\n",
              " 0.6832149900659188,\n",
              " 0.6444914291903547,\n",
              " 0.6524087030989689,\n",
              " 0.6123032094460792]"
            ]
          },
          "metadata": {},
          "execution_count": 247
        }
      ]
    },
    {
      "cell_type": "markdown",
      "source": [
        "Наивысшая метрика при наименьшем коэффициенте регуляризации, и с каждым его увеличением, метрика постепенно падает, это связано с тем, что на каждой итерации веса занижаются все ниже и ниже и к какому-то моменту они оказываются черезмерно занижеными, что ведет уже к **недообучению**."
      ],
      "metadata": {
        "id": "Z3lvHuS0ljSi"
      }
    }
  ],
  "metadata": {
    "colab": {
      "collapsed_sections": [],
      "provenance": []
    },
    "kernelspec": {
      "display_name": "Python 3",
      "name": "python3"
    },
    "language_info": {
      "name": "python"
    }
  },
  "nbformat": 4,
  "nbformat_minor": 0
}